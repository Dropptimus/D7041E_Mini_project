{
 "cells": [
  {
   "cell_type": "markdown",
   "metadata": {},
   "source": [
    "# Import dependencies"
   ]
  },
  {
   "cell_type": "code",
   "execution_count": null,
   "metadata": {},
   "outputs": [],
   "source": [
    "from sklearn.preprocessing import OrdinalEncoder\n",
    "from sklearn.model_selection import train_test_split\n",
    "from sklearn.linear_model import LogisticRegression\n",
    "from sklearn.neighbors import KNeighborsClassifier\n",
    "from sklearn.ensemble import RandomForestClassifier\n",
    "from sklearn.naive_bayes import GaussianNB\n",
    "from sklearn.svm import SVC\n",
    "from sklearn.cluster import KMeans, AffinityPropagation\n",
    "import warnings\n",
    "warnings.filterwarnings(\"ignore\")\n",
    "import numpy as np\n",
    "\n",
    "import torch\n",
    "from torch.utils.tensorboard import SummaryWriter\n",
    "\n",
    "from utils import clustering_classification, test_classifier, write, save_metrics_to_dict, encode_categorical_features, import_dataset, agg_clustering, writer_add_scalars"
   ]
  },
  {
   "cell_type": "markdown",
   "metadata": {},
   "source": [
    "# For logging "
   ]
  },
  {
   "cell_type": "code",
   "execution_count": null,
   "metadata": {},
   "outputs": [],
   "source": [
    "#writer = SummaryWriter(log_dir=\"C:\\\\awilde\\\\britta\\\\LTU\\\\AppliedAI\\\\runs\")\n",
    "writer = SummaryWriter()\n",
    "metrics_dict={\n",
    "\"train_acc_dict\" : {},\n",
    "\"train_f1_dict\" : {},\n",
    "\"test_acc_dict\" : {},\n",
    "\"test_f1_dict\" : {},\n",
    "\"train_acc_avg\" : {},\n",
    "\"train_f1_avg\" : {},\n",
    "\"test_acc_avg\" : {},\n",
    "\"test_f1_avg\" : {},\n",
    "}"
   ]
  },
  {
   "cell_type": "code",
   "execution_count": null,
   "metadata": {},
   "outputs": [],
   "source": [
    "# Launch tensorboard\n",
    "# images=22 change this to how many datasets you use\n",
    "%tensorboard --logdir runs/ --port 6006 --samples_per_plugin images=22\n",
    "# If in use (Mac) use to find the process PID\n",
    "% lsof -i :6006\n",
    "# Kill the process with \n",
    "% kill -9 <PID>\n",
    "# Then launch using bash with first command"
   ]
  },
  {
   "cell_type": "markdown",
   "metadata": {},
   "source": [
    "# Config Params"
   ]
  },
  {
   "cell_type": "code",
   "execution_count": null,
   "metadata": {},
   "outputs": [],
   "source": [
    "TEST_SIZE = 0.2\n",
    "RANDOM_SEEDS = [41, 42, 43, 44, 45]\n",
    "K_FOLDS = 5"
   ]
  },
  {
   "cell_type": "markdown",
   "metadata": {},
   "source": [
    "# Our chosen datasets\n",
    "TODO\n",
    "We have chosen the datasets based on the following criteria:\n",
    "- datasets where we do not need to do any special preprocessing so that it is easy to do in only one pipeline\n",
    "- rather small datasets to ensure we do not need high computational power"
   ]
  },
  {
   "cell_type": "code",
   "execution_count": null,
   "metadata": {},
   "outputs": [],
   "source": [
    "# Dataset that seems useful\n",
    "dataset_id = {\n",
    "    \"iris\": 53, \n",
    "    \"heart_disease\": 45, \n",
    "    \"wine_quality\": 186, \n",
    "    \"breast_cancer_wisconsin_diagnostic\": 17, \n",
    "    \"car_evaluation\": 19, \n",
    "    \"spect_heart\" : 95, \n",
    "    \"spectf_heart\" : 96,\n",
    "    \"mushroom\": 73, \n",
    "    \"statlog\" : 144, \n",
    "    \"credit_approval\" : 27, \n",
    "    \"zoo\" : 111, \n",
    "    \"balance_scale\" : 12, \n",
    "    \"ilpd\" : 225, \n",
    "    \"acute_inflamations\" : 184, \n",
    "    \"ecoli\" : 39, \n",
    "    \"mammographic_mass\" : 161, \n",
    "    \"hayes_roth\" : 44, \n",
    "    \"habermans_survival\" : 43, \n",
    "    \"congress_voting_records\" : 105, \n",
    "    \"balloons\" : 13, \n",
    "    \"lenses\" : 58, \n",
    "    \"fertility\" : 244, \n",
    "}\n",
    "\n",
    "# sort alphabetically and adds id for logging\n",
    "data_set_sorted = {}\n",
    "for i, name in enumerate(sorted(dataset_id.keys())):\n",
    "    data_set_sorted[name] = (dataset_id[name], i+1)\n",
    "\n",
    "print(data_set_sorted)"
   ]
  },
  {
   "cell_type": "markdown",
   "metadata": {},
   "source": [
    "# Import and preprocess datasets\n",
    "For the preprocessing we will do the following steps:\n",
    "1. Remove any missing values. In the article the following is written: \"Given that our classifiers are not oriented to data with missing features, the missing inputs are treated as zero, which should not bias the comparison results.\" We therefore also decided to just remove missing values and to more focus on the full pipeline instead of single datasets. Another way could have been interpolation.\n",
    "2. Encode categorical data into numerical data. This we have to do to use the classifiers later on.\n",
    "3. Split the data into a train and a test set. We will use a 80/20 split.\n",
    "4. Scale the data so that we have zero mean and standard deviation of one. This is done with the Standard scaler."
   ]
  },
  {
   "cell_type": "markdown",
   "metadata": {},
   "source": [
    "# Testing different classifiers"
   ]
  },
  {
   "cell_type": "markdown",
   "metadata": {},
   "source": [
    "## K-Nearest Neighbor classifier"
   ]
  },
  {
   "cell_type": "code",
   "execution_count": null,
   "metadata": {},
   "outputs": [],
   "source": [
    "# https://towardsdatascience.com/gridsearchcv-for-beginners-db48a90114ee\n",
    "knn_params = [{'knn__n_neighbors': [3, 5, 7, 9],\n",
    "        'knn__weights': ['uniform', 'distance'],\n",
    "        'knn__leaf_size': [15, 20]}]"
   ]
  },
  {
   "cell_type": "markdown",
   "metadata": {},
   "source": [
    "## Support vector machine classifier"
   ]
  },
  {
   "cell_type": "code",
   "execution_count": null,
   "metadata": {},
   "outputs": [],
   "source": [
    "# params taken from here: https://www.geeksforgeeks.org/svm-hyperparameter-tuning-using-gridsearchcv-ml/\n",
    "svm_params = [{'svm__C': [0.1, 1, 10, 100, 1000],  \n",
    "        'svm__gamma': [1, 0.1, 0.01, 0.001, 0.0001], \n",
    "        'svm__kernel': ['rbf']} ]"
   ]
  },
  {
   "cell_type": "markdown",
   "metadata": {},
   "source": [
    "## Logistic regression classifier"
   ]
  },
  {
   "cell_type": "code",
   "execution_count": null,
   "metadata": {},
   "outputs": [],
   "source": [
    "# params taken from here: https://www.geeksforgeeks.org/how-to-optimize-logistic-regression-performance/\n",
    "# and from here https://www.kaggle.com/code/enespolat/grid-search-with-logistic-regression\n",
    "# and here for fix: https://stackoverflow.com/questions/69257261/fitfailedwarning-estimator-fit-failed-the-score-on-this-train-test-partition-f\n",
    "# and here https://scikit-learn.org/1.5/modules/linear_model.html#solvers%E2%80%99-details\n",
    "log_reg_params = [\n",
    "    {'log_reg__solver':[\"lbfgs\", \"saga\"],\n",
    "    'log_reg__penalty':['l2', 'None'],\n",
    "    'log_reg__C' : np.logspace(-3,3,7),\n",
    "    'log_reg__max_iter'  : [100,1000,2500,5000]\n",
    "}\n",
    "]"
   ]
  },
  {
   "cell_type": "markdown",
   "metadata": {},
   "source": [
    "## Random Forest classifier"
   ]
  },
  {
   "cell_type": "code",
   "execution_count": null,
   "metadata": {},
   "outputs": [],
   "source": [
    "# https://www.datacamp.com/tutorial/random-forests-classifier-python\n",
    "random_forest_params = [\n",
    "    {\"random_forest__n_estimators\": [100, 500],\n",
    "     \"random_forest__max_depth\" : [5, 10, 15]\n",
    "}\n",
    "]"
   ]
  },
  {
   "cell_type": "markdown",
   "metadata": {},
   "source": [
    "## Gaussian naive bayes classifier"
   ]
  },
  {
   "cell_type": "code",
   "execution_count": null,
   "metadata": {},
   "outputs": [],
   "source": [
    "# https://www.kaggle.com/code/akshaysharma001/naive-bayes-with-hyperpameter-tuning#Hyperparameter-Tuning-to-improve-Accuracy\n",
    "gnb_params = [\n",
    "    {'gnb__var_smoothing': np.logspace(0,-9, num=10)\n",
    "    }\n",
    "]"
   ]
  },
  {
   "cell_type": "markdown",
   "metadata": {},
   "source": [
    "## K-means unsupervised classifier"
   ]
  },
  {
   "cell_type": "code",
   "execution_count": null,
   "metadata": {},
   "outputs": [],
   "source": [
    "# Already use k-means++ and we set the no. clusters to no. of labels\n",
    "# Set params in loop\n",
    "kmeans_params = []"
   ]
  },
  {
   "cell_type": "markdown",
   "metadata": {},
   "source": [
    "## Affinity propagation unsupervised classifier"
   ]
  },
  {
   "cell_type": "code",
   "execution_count": null,
   "metadata": {},
   "outputs": [],
   "source": [
    "# https://letsdatascience.com/affinity-propagation-clustering/\n",
    "affinity_propagation_params = [\n",
    "    {\"damping\": [0.5, 0.7]}, \n",
    "          ]"
   ]
  },
  {
   "cell_type": "markdown",
   "metadata": {},
   "source": [
    "# Train test loop"
   ]
  },
  {
   "cell_type": "code",
   "execution_count": null,
   "metadata": {},
   "outputs": [],
   "source": [
    "for i, (name, id) in enumerate(data_set_sorted.items()):\n",
    "        print(\"\\n\" + \"#\"*100)\n",
    "        print(f\"Current dataset: {name}\")\n",
    "        ordinal_encoder = OrdinalEncoder()\n",
    "\n",
    "        # Set up dataset\n",
    "        X, y = import_dataset(data_set_sorted[name][0], ordinal_encoder)\n",
    "        labels = np.unique(y)\n",
    "        y = encode_categorical_features(y, ordinal_encoder)\n",
    "        print(f\"Dataset size: {len(X)}\")\n",
    "        print(f\"Labels in dataset: {labels}\")\n",
    "        print(\"#\"*100, end=\"\\n\\n\")\n",
    "\n",
    "\n",
    "        for RANDOM_SEED in RANDOM_SEEDS:   \n",
    "\n",
    "                print(\"*\"*100)\n",
    "                print(\"Current seed:\", RANDOM_SEED)\n",
    "                print(\"*\"*100, end=\"\\n\\n\")\n",
    "\n",
    "                # split the dataset\n",
    "                X_train, X_test, y_train, y_test = train_test_split(X, y, test_size=TEST_SIZE, random_state=RANDOM_SEED, stratify = y)\n",
    "\n",
    "                # KNN\n",
    "                clf_name = \"knn\"\n",
    "                print(\"_\"*100)\n",
    "                print(f\"Classifier: {clf_name}\")\n",
    "                # https://towardsdatascience.com/gridsearchcv-for-beginners-db48a90114ee\n",
    "                knn = KNeighborsClassifier()\n",
    "                train_acc, train_f1, test_acc, test_f1, cm_train, cm_test = test_classifier(knn, clf_name, knn_params, X_train, y_train, X_test, y_test)\n",
    "\n",
    "                write(writer, name, clf_name, cm_train, \"train\", id[1] )\n",
    "                write(writer, name, clf_name, cm_test, \"test\", id[1] )\n",
    "\n",
    "                metrics_dict = save_metrics_to_dict(clf_name,\n",
    "                                                train_acc, \n",
    "                                                train_f1, \n",
    "                                                test_acc, \n",
    "                                                test_f1, \n",
    "                                                metrics_dict,\n",
    "                                                i,\n",
    "                                                RANDOM_SEED\n",
    "                                                )\n",
    "                \n",
    "                # SVM \n",
    "                svm = SVC(random_state=RANDOM_SEED)\n",
    "                clf_name = \"svm\"\n",
    "                print(\"_\"*100)\n",
    "                print(f\"Classifier: {clf_name}\")\n",
    "                train_acc, train_f1, test_acc, test_f1, cm_train, cm_test = test_classifier(svm, clf_name, svm_params, X_train, y_train, X_test, y_test)\n",
    "                write(writer, name, clf_name, cm_train, \"train\", id[1] )\n",
    "                write(writer, name, clf_name, cm_test, \"test\", id[1] )\n",
    "                metrics_dict = save_metrics_to_dict(clf_name,\n",
    "                                                train_acc, \n",
    "                                                train_f1, \n",
    "                                                test_acc, \n",
    "                                                test_f1, \n",
    "                                                metrics_dict,\n",
    "                                                i,\n",
    "                                                RANDOM_SEED\n",
    "                                                )\n",
    "\n",
    "                # Logistic regression\n",
    "                log_reg = LogisticRegression(random_state=RANDOM_SEED)\n",
    "                clf_name = \"log_reg\"\n",
    "                print(\"_\"*100)\n",
    "                print(f\"Classifier: {clf_name}\")\n",
    "                train_acc, train_f1, test_acc, test_f1, cm_train, cm_test = test_classifier(log_reg, \n",
    "                                                                                        clf_name, \n",
    "                                                                                        log_reg_params, \n",
    "                                                                                        X_train, \n",
    "                                                                                        y_train, \n",
    "                                                                                        X_test, \n",
    "                                                                                        y_test)\n",
    "                write(writer, name, clf_name, cm_train, \"train\", id[1] )\n",
    "                write(writer, name, clf_name, cm_test, \"test\", id[1] )\n",
    "                metrics_dict = save_metrics_to_dict(clf_name,\n",
    "                                                train_acc, \n",
    "                                                train_f1, \n",
    "                                                test_acc, \n",
    "                                                test_f1, \n",
    "                                                metrics_dict,\n",
    "                                                i,\n",
    "                                                RANDOM_SEED\n",
    "                                                )\n",
    "                \n",
    "                # Random forest\n",
    "                random_forest = RandomForestClassifier(random_state=RANDOM_SEED)\n",
    "                clf_name = \"random_forest\"\n",
    "                print(\"_\"*100)\n",
    "                print(f\"Classifier: {clf_name}\")\n",
    "                train_acc, train_f1, test_acc, test_f1, cm_train, cm_test = test_classifier(random_forest, \n",
    "                                                                                        clf_name, \n",
    "                                                                                        random_forest_params, \n",
    "                                                                                        X_train, \n",
    "                                                                                        y_train, \n",
    "                                                                                        X_test, \n",
    "                                                                                        y_test)\n",
    "                write(writer, name, clf_name, cm_train, \"train\", id[1] )\n",
    "                write(writer, name, clf_name, cm_test, \"test\", id[1] )\n",
    "                metrics_dict = save_metrics_to_dict(clf_name,\n",
    "                                                train_acc, \n",
    "                                                train_f1, \n",
    "                                                test_acc, \n",
    "                                                test_f1, \n",
    "                                                metrics_dict,\n",
    "                                                i,\n",
    "                                                RANDOM_SEED\n",
    "                                                )\n",
    "                \n",
    "                # Gaussian naive bayes\n",
    "                gnb = GaussianNB()\n",
    "                clf_name = \"gnb\"\n",
    "                print(\"_\"*100)\n",
    "                print(f\"Classifier: {clf_name}\")\n",
    "                train_acc, train_f1, test_acc, test_f1, cm_train, cm_test = test_classifier(gnb, \n",
    "                                                                                        clf_name, \n",
    "                                                                                        gnb_params, \n",
    "                                                                                        X_train, \n",
    "                                                                                        y_train, \n",
    "                                                                                        X_test, \n",
    "                                                                                        y_test)\n",
    "                write(writer, name, clf_name, cm_train, \"train\", id[1] )\n",
    "                write(writer, name, clf_name, cm_test, \"test\", id[1] )\n",
    "                metrics_dict = save_metrics_to_dict(clf_name,\n",
    "                                                train_acc, \n",
    "                                                train_f1, \n",
    "                                                test_acc, \n",
    "                                                test_f1, \n",
    "                                                metrics_dict,\n",
    "                                                i,\n",
    "                                                RANDOM_SEED\n",
    "                                                )\n",
    "                \n",
    "        \n",
    "                # K-means\n",
    "                clf_name = \"kmeans\"\n",
    "                print(\"_\"*100)\n",
    "                print(f\"Classifier: {clf_name}\")\n",
    "                kmeans_params = [{\"algorithm\": [\"lloyd\", \"elkan\"]}]\n",
    "                n_clusters = len(labels)\n",
    "                kmeans_params.append({\"n_clusters\": [n_clusters]})\n",
    "                train_acc, train_f1, test_acc, test_f1, cm_train, cm_test = clustering_classification(KMeans, clf_name, kmeans_params, X_train, y_train, X_test, y_test, RANDOM_SEED, K_FOLDS)\n",
    "                write(writer, name, clf_name, cm_train, \"train\", id[1])\n",
    "                write(writer, name, clf_name, cm_test, \"test\", id[1] )\n",
    "                metrics_dict = save_metrics_to_dict(clf_name,\n",
    "                                                train_acc, \n",
    "                                                train_f1, \n",
    "                                                test_acc, \n",
    "                                                test_f1, \n",
    "                                                metrics_dict,\n",
    "                                                i,\n",
    "                                                RANDOM_SEED\n",
    "                                                )\n",
    "\n",
    "                # Agglomerative clustering\n",
    "                clf_name = \"agglomerative_clustering\"\n",
    "                print(\"_\"*100)\n",
    "                print(f\"Classifier: {clf_name}\")\n",
    "                train_acc, train_f1, test_acc, test_f1, cm_train, cm_test = agg_clustering(X_train, y_train, X_test, y_test, RANDOM_SEED)\n",
    "                write(writer, name, clf_name, cm_train, \"train\", id[1] )\n",
    "                write(writer, name, clf_name, cm_test, \"test\", id[1] )\n",
    "                metrics_dict = save_metrics_to_dict(clf_name,\n",
    "                                                train_acc, \n",
    "                                                train_f1, \n",
    "                                                test_acc, \n",
    "                                                test_f1, \n",
    "                                                metrics_dict,\n",
    "                                                i,\n",
    "                                                RANDOM_SEED\n",
    "                                                )\n",
    "                \n",
    "\n",
    "                # Affinity propagation\n",
    "                clf_name = \"affinity_propagation\"\n",
    "                print(\"_\"*100)\n",
    "                print(f\"Classifier: {clf_name}\")\n",
    "                train_acc, train_f1, test_acc, test_f1, cm_train, cm_test =  clustering_classification(AffinityPropagation, clf_name, affinity_propagation_params, X_train, y_train, X_test, y_test, RANDOM_SEED, K_FOLDS)\n",
    "                write(writer, name, clf_name, cm_train, \"train\", id[1] )\n",
    "                write(writer, name, clf_name, cm_test, \"test\", id[1] )\n",
    "                metrics_dict = save_metrics_to_dict(clf_name,\n",
    "                                                train_acc, \n",
    "                                                train_f1, \n",
    "                                                test_acc, \n",
    "                                                test_f1, \n",
    "                                                metrics_dict,\n",
    "                                                i,\n",
    "                                                RANDOM_SEED\n",
    "                                                )\n",
    "\n",
    "        # Take average\n",
    "        keys_to_update = [\"train_acc_dict\", \"test_acc_dict\", \"train_f1_dict\", \"test_f1_dict\"]\n",
    "        for key in keys_to_update:\n",
    "                metrics_dict[key] = {k: v / len(RANDOM_SEEDS) for k, v in metrics_dict[key].items()}\n",
    "        # Write metrics to tensorboard, step is dataset id      \n",
    "        writer.add_scalars(\"Train accuracy\", metrics_dict[\"train_acc_dict\"], id[1])\n",
    "        writer.add_scalars(\"Test accuracy\", metrics_dict[\"test_acc_dict\"], id[1])\n",
    "        writer.add_scalars(\"Train f1\",  metrics_dict[\"train_f1_dict\"], id[1])\n",
    "        writer.add_scalars(\"Test f1\", metrics_dict[\"test_f1_dict\"], id[1])\n",
    "\n",
    "        writer_add_scalars(\"Train average accuracy\", writer, metrics_dict[\"train_acc_avg\"], id[1])\n",
    "        writer_add_scalars(\"Test average accuracy\", writer, metrics_dict[\"test_acc_avg\"], id[1])\n",
    "        writer_add_scalars(\"Train average f1\", writer, metrics_dict[\"train_f1_avg\"], id[1])\n",
    "        writer_add_scalars(\"Test average f1\", writer, metrics_dict[\"test_f1_avg\"], id[1])\n",
    "        \n",
    "        # reset dictionaries\n",
    "        keys_to_update = [\"train_acc_dict\", \"test_acc_dict\", \"train_f1_dict\", \"test_f1_dict\"]\n",
    "        for key in keys_to_update:\n",
    "                metrics_dict[key] = {}\n",
    "        \n",
    "\n",
    "writer.close()"
   ]
  },
  {
   "cell_type": "code",
   "execution_count": null,
   "metadata": {},
   "outputs": [],
   "source": [
    "rank_counter = 0\n",
    "print(f\"{'Rank':<5} {'Classifier':<30} {'Avg. test acc.':<17} {'Avg. train acc.':<17} {'Avg. test F1':<17} {'Avg train F1':<17}\")\n",
    "print(\"_\"*100)\n",
    "for i, clf in enumerate(sorted(metrics_dict[\"test_acc_avg\"].items(), key=lambda x: x[1], reverse=True)):\n",
    "    if clf[0].endswith(\"count\"):\n",
    "        rank_counter += 1\n",
    "        continue\n",
    "    print(f\"{i+1-rank_counter:<5} {clf[0][:-4]:<30} {clf[1]:<17.3f} {metrics_dict['train_acc_avg'][clf[0]]:<8.3f}\\\n",
    "          {metrics_dict['test_f1_avg'][clf[0]]:<18.3f}{metrics_dict['train_f1_avg'][clf[0]]:<17.3f}\")\n",
    "print(\"_\"*100)"
   ]
  }
 ],
 "metadata": {
  "kernelspec": {
   "display_name": "AppliedAILabs",
   "language": "python",
   "name": "python3"
  },
  "language_info": {
   "codemirror_mode": {
    "name": "ipython",
    "version": 3
   },
   "file_extension": ".py",
   "mimetype": "text/x-python",
   "name": "python",
   "nbconvert_exporter": "python",
   "pygments_lexer": "ipython3",
   "version": "3.11.10"
  }
 },
 "nbformat": 4,
 "nbformat_minor": 2
}
