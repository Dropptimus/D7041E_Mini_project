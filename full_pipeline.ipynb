{
 "cells": [
  {
   "cell_type": "markdown",
   "metadata": {},
   "source": [
    "# Import dependencies"
   ]
  },
  {
   "cell_type": "code",
   "execution_count": 18,
   "metadata": {},
   "outputs": [],
   "source": [
    "from ucimlrepo import fetch_ucirepo, list_available_datasets\n",
    "from sklearn.preprocessing import LabelEncoder, OneHotEncoder, OrdinalEncoder\n",
    "from sklearn.model_selection import train_test_split\n",
    "from sklearn.model_selection import KFold\n",
    "from sklearn.linear_model import LogisticRegression\n",
    "from sklearn.model_selection import cross_val_score\n",
    "from sklearn.preprocessing import StandardScaler\n",
    "import numpy as np\n",
    "import pandas as pd"
   ]
  },
  {
   "cell_type": "markdown",
   "metadata": {},
   "source": [
    "# Config Params"
   ]
  },
  {
   "cell_type": "code",
   "execution_count": 19,
   "metadata": {},
   "outputs": [],
   "source": [
    "TEST_SIZE = 0.2\n",
    "RANDOM_SEED = 42\n",
    "K_FOLDS = 3"
   ]
  },
  {
   "cell_type": "markdown",
   "metadata": {},
   "source": [
    "# Our chosen datasets\n",
    "TODO\n",
    "We have chosen the datasets based on the following criteria:\n",
    "- datasets where we do not need to do any special preprocessing so that it is easy to do in only one pipeline\n",
    "- rather small datasets to ensure we do not need high computational power"
   ]
  },
  {
   "cell_type": "code",
   "execution_count": 20,
   "metadata": {},
   "outputs": [],
   "source": [
    "# Dataset that seems useful\n",
    "dataset_id = {\"iris\": 53, \n",
    "              \"heart_disease\": 45,\n",
    "              \"wine_quality\": 186,\n",
    "              \"breast_cancer_wisconsin\": 17,\n",
    "              \"car_evaluation\": 19, # Not good maybe remove\n",
    "              \"abalone\": 1,\n",
    "              \"mushroom\": 73, # a lot of categorical data\n",
    "              \"statlog\" : 144, # german credit\n",
    "              \"student_performance\" : 320,\n",
    "              \"accute_inflammation\" : 284,\n",
    "              \"credit_approval\" : 143,\n",
    "              \"wholesale_customers\" : 292,\n",
    "              \"glass_identifcation\" : 42,\n",
    "              \"ilpd\" : 225,\n",
    "              \"hcv\" : 503,\n",
    "              \"land_mines\" : 763,\n",
    "              \"balance_scale\" : 12\n",
    "              }\n"
   ]
  },
  {
   "cell_type": "markdown",
   "metadata": {},
   "source": [
    "# Import and preprocess datasets\n",
    "For the preprocessing we will do the following steps:\n",
    "1. Remove any missing values. In the article the following is written: \"Given that our classifiers are not oriented to data with missing features, the missing inputs are treated as zero, which should not bias the comparison results.\" We therefore also decided to just remove missing values and to more focus on the full pipeline instead of single datasets. Another way could have been interpolation.\n",
    "2. Encode categorical data into numerical data. This we have to do to use the classifiers later on.\n",
    "3. Remove certain columns if they are highly correlated to others.\n",
    "4. Split the data into a train and a test set. We will use a 80/20 split.\n",
    "5. Scale the data so that we have zero mean and standard deviation of one. This is done with the Standard scaler."
   ]
  },
  {
   "cell_type": "code",
   "execution_count": 21,
   "metadata": {},
   "outputs": [],
   "source": [
    "# function for converting categorical features into numerical\n",
    "def encode_categorical_features(X, encoder):\n",
    "    X = encoder.fit_transform(X)\n",
    "    return X"
   ]
  },
  {
   "cell_type": "code",
   "execution_count": 36,
   "metadata": {},
   "outputs": [],
   "source": [
    "def import_dataset(uci_id, encoder):\n",
    "    # get the dataset\n",
    "    dataset = fetch_ucirepo(id=uci_id) \n",
    "    # load data into dataframe for easier preprocessing\n",
    "    df = pd.concat([dataset[\"data\"][\"features\"],dataset[\"data\"][\"targets\"] ],axis=1)\n",
    "    # remove nan values\n",
    "    df.dropna(inplace=True)\n",
    "    # encode categorical data\n",
    "    # https://stackoverflow.com/questions/29803093/check-which-columns-in-dataframe-are-categorical\n",
    "    cols = df.columns\n",
    "    num_cols = df._get_numeric_data().columns\n",
    "    #print(num_cols)\n",
    "    categorical_cols = list(set(cols) - set(num_cols))\n",
    "    #print(categorical_cols)\n",
    "    df.loc[:, categorical_cols] = encode_categorical_features(df[categorical_cols], encoder)\n",
    "    \n",
    "    # check if encoding has worked\n",
    "    # https://stackoverflow.com/questions/26924904/check-if-dataframe-column-is-categorical\n",
    "    for c in df.columns:\n",
    "        if df[c].dtype.name == \"category\":\n",
    "            print(f\"WARNING: Column {c} still has categorical values!\")\n",
    "            \n",
    "    # last column is target\n",
    "    return df.iloc[:,:-1], df.iloc[:,-1:]"
   ]
  },
  {
   "cell_type": "code",
   "execution_count": 38,
   "metadata": {},
   "outputs": [],
   "source": [
    "ordinal_encoder = OrdinalEncoder()\n",
    "X, y = import_dataset(dataset_id[\"breast_cancer_wisconsin\"], ordinal_encoder)\n",
    "#print(y)\n",
    "#print(X)"
   ]
  },
  {
   "cell_type": "code",
   "execution_count": 39,
   "metadata": {},
   "outputs": [],
   "source": [
    "# split the dataset\n",
    "X_train, X_test, Y_train, Y_test = train_test_split(X, y, test_size=TEST_SIZE, random_state=RANDOM_SEED)"
   ]
  }
 ],
 "metadata": {
  "kernelspec": {
   "display_name": "AppliedAILabs",
   "language": "python",
   "name": "python3"
  },
  "language_info": {
   "codemirror_mode": {
    "name": "ipython",
    "version": 3
   },
   "file_extension": ".py",
   "mimetype": "text/x-python",
   "name": "python",
   "nbconvert_exporter": "python",
   "pygments_lexer": "ipython3",
   "version": "3.11.10"
  }
 },
 "nbformat": 4,
 "nbformat_minor": 2
}
