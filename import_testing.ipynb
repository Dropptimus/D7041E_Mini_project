{
 "cells": [
  {
   "cell_type": "markdown",
   "metadata": {},
   "source": [
    "# Just exploring some potential datasets"
   ]
  },
  {
   "cell_type": "markdown",
   "metadata": {},
   "source": [
    "## Things to add\n",
    "- Outlier removal\n",
    "- Correlated columns\n",
    "- Balance datasets?\n",
    "\n",
    "## \n",
    "- Unsupervised classifiers KNN, \n",
    "- Ordinal encoding labels"
   ]
  },
  {
   "cell_type": "code",
   "execution_count": 58,
   "metadata": {},
   "outputs": [],
   "source": [
    "from ucimlrepo import fetch_ucirepo, list_available_datasets\n",
    "from sklearn.preprocessing import LabelEncoder, OneHotEncoder, OrdinalEncoder\n",
    "from sklearn.model_selection import train_test_split\n",
    "from sklearn.model_selection import KFold\n",
    "from sklearn.linear_model import LogisticRegression\n",
    "from sklearn.model_selection import cross_val_score\n",
    "from sklearn.preprocessing import StandardScaler\n",
    "from sklearn.pipeline import Pipeline\n",
    "from sklearn.model_selection import GridSearchCV\n",
    "from sklearn.neighbors import KNeighborsClassifier\n",
    "from sklearn.svm import SVC\n",
    "from sklearn.cluster import KMeans\n",
    "from sklearn.metrics import accuracy_score, f1_score, confusion_matrix, ConfusionMatrixDisplay\n",
    "\n",
    "import numpy as np\n",
    "import pandas as pd\n",
    "import matplotlib.pyplot as plt\n",
    "\n",
    "#list_avaliable_datasets()"
   ]
  },
  {
   "cell_type": "code",
   "execution_count": 59,
   "metadata": {},
   "outputs": [],
   "source": [
    "# Dataset that seems useful\n",
    "dataset_id = {\"iris\": 53, # Seem ok \n",
    "              \"heart_disease\": 45, # Seems ok\n",
    "              \"wine_quality\": 186, # Seems ok\n",
    "              \"breast_cancer_wisconsin\": 17, # Seems ok\n",
    "              \"car_evaluation\": 19, # Seems ok, but might have some highly correlated columns\n",
    "              \"abalone\": 1, # Seems ok, 1 outlier in height?\n",
    "              \"mushroom\": 73, # Seems ok, only categorical data, missing values\n",
    "              \"statlog\" : 144, # Seems ok, lots of categorical data\n",
    "              \"credit_approval\" : 27, # Seems ok\n",
    "              \"banknote_authentication\" : 267, # Seems ok\n",
    "              \"zoo\" : 111, # Seems ok, almost only binominal data\n",
    "              \"raisins\" : 850, # Seems ok\n",
    "              \"maternal_health_risk\" : 863, # Seems ok\n",
    "              \"balance_scale\" : 12, # Seems ok\n",
    "              \"land_mines\" : 763,\n",
    "              \"hcv\" : 571, \n",
    "              \"ilpd\" : 225,\n",
    "              \"acute_inflamations\" : 184,\n",
    "              \"ecoli\" : 39,\n",
    "              \"mammographic_mass\" : 161,\n",
    "              \"hayes_roth\" : 44\n",
    "              }\n",
    "TEST_SIZE = 0.2\n",
    "RANDOM_SEED = 42\n",
    "K_FOLDS = 3"
   ]
  },
  {
   "cell_type": "markdown",
   "metadata": {},
   "source": [
    "# Load data"
   ]
  },
  {
   "cell_type": "markdown",
   "metadata": {},
   "source": [
    "### Turn categorical features into numerical"
   ]
  },
  {
   "cell_type": "code",
   "execution_count": 60,
   "metadata": {},
   "outputs": [],
   "source": [
    "def encode_categorical_features(X, encoder):\n",
    "    X = encoder.fit_transform(X)\n",
    "    return X"
   ]
  },
  {
   "cell_type": "code",
   "execution_count": 61,
   "metadata": {},
   "outputs": [],
   "source": [
    "def import_dataset(uci_id, encoder):\n",
    "    dataset = fetch_ucirepo(id=uci_id) \n",
    "    print(dataset.metadata)\n",
    "    data_types = dataset.variables[\"type\"]\n",
    "    data_names = dataset.variables[\"name\"]\n",
    "    data_roles = dataset.variables[\"role\"]\n",
    "    X = dataset.data.features\n",
    "    y = dataset.data.targets\n",
    "    print(data_names)\n",
    "    print(\"Column names in X:\", X.columns.tolist())\n",
    "    categorical_columns = []\n",
    "    #categorical_columns = [data_names[i] for i, type in enumerate(data_types) if (type == \"Categorical\" or type == \"Binary\") and data_names[i] != \"class\"]\n",
    "    for i, type in enumerate(data_types):\n",
    "        # print(data_names[i], type, data_roles[i])\n",
    "        if (type == \"Categorical\" or type == \"Binary\") and data_names[i] != \"class\" and data_roles[i] == \"Feature\":\n",
    "            categorical_columns.append(data_names[i])\n",
    "    # Encode catorical features\n",
    "    X.loc[:, categorical_columns] = encode_categorical_features(X[categorical_columns], encoder)\n",
    "    # Remove rows with missing values\n",
    "    X = X.dropna()\n",
    "    y = y.loc[X.index]\n",
    "    return X, y\n"
   ]
  },
  {
   "cell_type": "code",
   "execution_count": 62,
   "metadata": {},
   "outputs": [
    {
     "name": "stdout",
     "output_type": "stream",
     "text": [
      "{'uci_id': 39, 'name': 'Ecoli', 'repository_url': 'https://archive.ics.uci.edu/dataset/39/ecoli', 'data_url': 'https://archive.ics.uci.edu/static/public/39/data.csv', 'abstract': 'This data contains protein localization sites', 'area': 'Biology', 'tasks': ['Classification'], 'characteristics': ['Multivariate'], 'num_instances': 336, 'num_features': 7, 'feature_types': ['Real'], 'demographics': [], 'target_col': ['class'], 'index_col': ['Sequence'], 'has_missing_values': 'no', 'missing_values_symbol': None, 'year_of_dataset_creation': 1996, 'last_updated': 'Thu Feb 15 2024', 'dataset_doi': '10.24432/C5388M', 'creators': ['Kenta Nakai'], 'intro_paper': {'ID': 391, 'type': 'NATIVE', 'title': 'A Probabilistic Classification System for Predicting the Cellular Localization Sites of Proteins', 'authors': 'P. Horton, K. Nakai', 'venue': 'Intelligent Systems in Molecular Biology', 'year': 1996, 'journal': None, 'DOI': None, 'URL': 'https://www.semanticscholar.org/paper/A-Probabilistic-Classification-System-for-the-Sites-Horton-Nakai/623c5e3441a1e08e3da2c68924c85e4b95274652', 'sha': None, 'corpus': None, 'arxiv': None, 'mag': None, 'acl': None, 'pmid': None, 'pmcid': None}, 'additional_info': {'summary': 'The references below describe a predecessor to this dataset and its development. They also give results (not cross-validated) for classification by a rule-based expert system with that version of the dataset.\\r\\n\\r\\nReference: \"Expert Sytem for Predicting Protein Localization Sites in Gram-Negative Bacteria\", Kenta Nakai & Minoru Kanehisa,  PROTEINS: Structure, Function, and Genetics 11:95-110, 1991.\\r\\n\\r\\nReference: \"A Knowledge Base for Predicting Protein Localization Sites in Eukaryotic Cells\", Kenta Nakai & Minoru Kanehisa, Genomics 14:897-911, 1992.', 'purpose': None, 'funded_by': None, 'instances_represent': None, 'recommended_data_splits': None, 'sensitive_data': None, 'preprocessing_description': None, 'variable_info': \"  1.  Sequence Name: Accession number for the SWISS-PROT database\\r\\n  2.  mcg: McGeoch's method for signal sequence recognition.\\r\\n  3.  gvh: von Heijne's method for signal sequence recognition.\\r\\n  4.  lip: von Heijne's Signal Peptidase II consensus sequence score. Binary attribute.\\r\\n  5.  chg: Presence of charge on N-terminus of predicted lipoproteins. Binary attribute.\\r\\n  6.  aac: score of discriminant analysis of the amino acid content of outer membrane and periplasmic proteins.\\r\\n  7. alm1: score of the ALOM membrane spanning region prediction program.\\r\\n  8. alm2: score of ALOM program after excluding putative cleavable signal regions from the sequence.\", 'citation': None}}\n",
      "0    Sequence\n",
      "1         mcg\n",
      "2         gvh\n",
      "3         lip\n",
      "4         chg\n",
      "5         aac\n",
      "6        alm1\n",
      "7        alm2\n",
      "8       class\n",
      "Name: name, dtype: object\n",
      "Column names in X: ['mcg', 'gvh', 'lip', 'chg', 'aac', 'alm1', 'alm2']\n"
     ]
    },
    {
     "name": "stderr",
     "output_type": "stream",
     "text": [
      "/var/folders/s9/bg_8ddhj38x2g3svq29mlmcc0000gn/T/ipykernel_99538/3720503759.py:18: SettingWithCopyWarning: \n",
      "A value is trying to be set on a copy of a slice from a DataFrame\n",
      "\n",
      "See the caveats in the documentation: https://pandas.pydata.org/pandas-docs/stable/user_guide/indexing.html#returning-a-view-versus-a-copy\n",
      "  X.loc[:, categorical_columns] = encode_categorical_features(X[categorical_columns], encoder)\n"
     ]
    }
   ],
   "source": [
    "ordinal_encoder = OrdinalEncoder()\n",
    "X, y = import_dataset(dataset_id[\"ecoli\"], ordinal_encoder)\n",
    "#print(type(X))\n",
    "#print(y)\n",
    "#print(X)"
   ]
  },
  {
   "cell_type": "markdown",
   "metadata": {},
   "source": [
    "# Train test split"
   ]
  },
  {
   "cell_type": "code",
   "execution_count": 63,
   "metadata": {},
   "outputs": [],
   "source": [
    "X_train, X_test, Y_train, Y_test = train_test_split(X, y, test_size=TEST_SIZE, random_state=RANDOM_SEED)"
   ]
  },
  {
   "cell_type": "markdown",
   "metadata": {},
   "source": [
    "## Cross validation"
   ]
  },
  {
   "cell_type": "code",
   "execution_count": 64,
   "metadata": {},
   "outputs": [
    {
     "name": "stdout",
     "output_type": "stream",
     "text": [
      "Accuracy: 0.858 ,\n",
      "Standard Deviations :0.055\n"
     ]
    },
    {
     "name": "stderr",
     "output_type": "stream",
     "text": [
      "/Users/emillundin/anaconda3/envs/D7041EMiniProject/lib/python3.11/site-packages/sklearn/model_selection/_split.py:776: UserWarning: The least populated class in y has only 1 members, which is less than n_splits=5.\n",
      "  warnings.warn(\n"
     ]
    }
   ],
   "source": [
    "log_reg = LogisticRegression(max_iter=1000)\n",
    "\n",
    "# Ravel to convert from (len, 1) shape to (len,), warning from sk-learn\n",
    "Y_train = np.ravel(Y_train)\n",
    "scaler = StandardScaler()\n",
    "X_scaled = scaler.fit_transform(X_train)\n",
    "\n",
    "scores = cross_val_score(\n",
    "    log_reg, X_scaled, Y_train, scoring='accuracy', cv=5)\n",
    "# accuracy\n",
    "print('Accuracy: %.3f ,\\nStandard Deviations :%.3f' %\n",
    "      (np.mean(scores), np.std(scores)))\n",
    "\n",
    "#TODO check if this is better implementation\n",
    "# k_folds  = KFold(n_splits=K_FOLDS)\n",
    "# for train_idx, valid_idx in k_folds.split(X_train):\n",
    "#     continue"
   ]
  },
  {
   "cell_type": "code",
   "execution_count": 65,
   "metadata": {},
   "outputs": [],
   "source": [
    "# Testing importing the first 25 UCI datasets\n",
    "# for i in range(1, 25):\n",
    "#     try:\n",
    "#         X, y = import_dataset(i, ordinal_encoder)\n",
    "#     except Exception as e:\n",
    "#         if \"DatasetNotFoundError\" in str(type(e)):\n",
    "#             print(f\"Dataset {i} is not available for import. Skipping. Error: {str(e)}\")\n",
    "#         else:\n",
    "#             print(f\"An unexpected error occurred with dataset {i}: {str(e)}\")"
   ]
  },
  {
   "cell_type": "code",
   "execution_count": 66,
   "metadata": {},
   "outputs": [],
   "source": [
    "def test_classifier(clf, clf_name, params, X_train, y_train, X_test, y_test):\n",
    "    # https://towardsdatascience.com/gridsearchcv-for-beginners-db48a90114ee\n",
    "    pipe = Pipeline([('scaler', StandardScaler()), (clf_name, clf)])\n",
    "    scoring = 'accuracy'\n",
    "    gs_knn = GridSearchCV(pipe,\n",
    "                        param_grid=params,\n",
    "                        scoring=scoring,\n",
    "                        cv=5)\n",
    "\n",
    "    # Ravel to convert from (len, 1) shape to (len,), warning from sk-learn\n",
    "    y_train = np.ravel(y_train)\n",
    "\n",
    "    gs_knn.fit(X_train, y_train)\n",
    "    print(gs_knn.best_params_)\n",
    "    # find best model score\n",
    "    y_pred_train = gs_knn.best_estimator_.predict(X_train)\n",
    "    train_acc = accuracy_score(y_train, y_pred_train)\n",
    "    # TODO\n",
    "    train_f1 = f1_score(y_train, y_pred_train, average=\"weighted\")\n",
    "    #train_score = gs_knn.score(X_train, y_train)\n",
    "\n",
    "    # test on test set\n",
    "    y_pred_test = gs_knn.best_estimator_.predict(X_test)\n",
    "    test_acc = accuracy_score(y_test, y_pred_test)\n",
    "    # TODO\n",
    "    test_f1 = f1_score(y_test, y_pred_test, average=\"weighted\")\n",
    "    #test_score = gs_knn.score(X_test, y_test)\n",
    "\n",
    "    print(f\"{clf_name}, Train accuracy = {train_acc}, Test accuracy = {test_acc}\")\n",
    "    print(f\"{clf_name}, Train f1-score = {train_f1}, Test f1-score = {test_f1}\")\n",
    "\n",
    "    # Confusion Matrix\n",
    "    print(\"Confusion Matrix for train set\")\n",
    "    cm_train = confusion_matrix(y_train, y_pred_train, labels=gs_knn.classes_)\n",
    "    disp = ConfusionMatrixDisplay(confusion_matrix=cm_train, display_labels=gs_knn.classes_)\n",
    "    disp.plot()\n",
    "    plt.show()\n",
    "\n",
    "    print(\"Confusion Matrix for test set\")\n",
    "    cm_test = confusion_matrix(y_test, y_pred_test, labels=gs_knn.classes_)\n",
    "    disp = ConfusionMatrixDisplay(confusion_matrix=cm_test, display_labels=gs_knn.classes_)\n",
    "    disp.plot()\n",
    "    plt.show()"
   ]
  },
  {
   "cell_type": "markdown",
   "metadata": {},
   "source": [
    "# K-means for classification"
   ]
  },
  {
   "cell_type": "code",
   "execution_count": 67,
   "metadata": {},
   "outputs": [
    {
     "name": "stdout",
     "output_type": "stream",
     "text": [
      "Cluster to Class Mapping: {np.int32(0): np.float64(4.0), np.int32(1): np.float64(0.0), np.int32(2): np.float64(7.0), np.int32(3): np.float64(0.0), np.int32(4): np.float64(6.0), np.int32(5): np.float64(7.0), np.int32(6): np.float64(1.0), np.int32(7): np.float64(1.0)}\n",
      "K-Means Classifier Accuracy: 0.5147058823529411\n"
     ]
    }
   ],
   "source": [
    "# Source: https://towardsdatascience.com/kmeans-clustering-for-classification-74b992405d0a\n",
    "# But this use another model for predicting \n",
    "\n",
    "from scipy.stats import mode\n",
    "n_clusters = len(np.unique(Y_train))\n",
    "kmeans = KMeans(n_clusters = n_clusters, random_state=42)\n",
    "kmeans.fit(X_train)\n",
    "cluster_labels = kmeans.predict(X_test)\n",
    "# y_labels_train = kmeans.labels_\n",
    "\n",
    "# X_train['km_clust'] = y_labels_train\n",
    "# X_test['km_clust'] = cluster_labels\n",
    "\n",
    "# print('Accuracy: {}'.format(accuracy_score(Y_test, cluster_labels)))\n",
    "# print(kmeans.score(X_test))\n",
    "# print(cluster_labels, Y_test)\n",
    "\n",
    "\n",
    "# Also used ChatGPT to fix \n",
    "Y_train = encode_categorical_features(Y_train.reshape(-1, 1), ordinal_encoder)\n",
    "cluster_labels = kmeans.predict(X_train)\n",
    "labels_map = {}\n",
    "for cluster in np.unique(cluster_labels):\n",
    "    class_label = mode(Y_train[cluster_labels == cluster])[0][0]\n",
    "    labels_map[cluster] = class_label\n",
    "print(\"Cluster to Class Mapping:\", labels_map)\n",
    "# accuracy = accuracy_score(Y_train, cluster_labels)\n",
    "# print(\"K-Means Classifier Accuracy:\", accuracy)\n",
    "test_clusters = kmeans.predict(X_test)\n",
    "Y_test = encode_categorical_features(Y_test, ordinal_encoder)\n",
    "y_pred = np.array([labels_map[cluster] for cluster in test_clusters])\n",
    "\n",
    "# print(y_pred)\n",
    "# print(Y_test)\n",
    "\n",
    "accuracy = accuracy_score(Y_test, y_pred)\n",
    "print(\"K-Means Classifier Accuracy:\", accuracy)"
   ]
  },
  {
   "cell_type": "code",
   "execution_count": 68,
   "metadata": {},
   "outputs": [
    {
     "name": "stderr",
     "output_type": "stream",
     "text": [
      "/Users/emillundin/anaconda3/envs/D7041EMiniProject/lib/python3.11/site-packages/sklearn/model_selection/_split.py:776: UserWarning: The least populated class in y has only 1 members, which is less than n_splits=5.\n",
      "  warnings.warn(\n"
     ]
    },
    {
     "name": "stdout",
     "output_type": "stream",
     "text": [
      "{'knn__leaf_size': 15, 'knn__n_neighbors': 5, 'knn__weights': 'uniform'}\n",
      "knn, Train accuracy = 0.8917910447761194, Test accuracy = 0.6176470588235294\n",
      "knn, Train f1-score = 0.8865770628196644, Test f1-score = 0.6024582967515365\n",
      "Confusion Matrix for train set\n"
     ]
    },
    {
     "data": {
      "image/png": "[encoded data removed]",
      "text/plain": [
       "<Figure size 640x480 with 2 Axes>"
      ]
     },
     "metadata": {},
     "output_type": "display_data"
    },
    {
     "name": "stdout",
     "output_type": "stream",
     "text": [
      "Confusion Matrix for test set\n"
     ]
    },
    {
     "data": {
      "image/png": "[encoded data removed]",
      "text/plain": [
       "<Figure size 640x480 with 2 Axes>"
      ]
     },
     "metadata": {},
     "output_type": "display_data"
    }
   ],
   "source": [
    "knn = KNeighborsClassifier()\n",
    "params = [{'knn__n_neighbors': [3, 5, 7, 9],\n",
    "         'knn__weights': ['uniform', 'distance'],\n",
    "         'knn__leaf_size': [15, 20]}]\n",
    "\n",
    "test_classifier(knn, \"knn\", params, X_train, Y_train, X_test, Y_test)"
   ]
  }
 ],
 "metadata": {
  "kernelspec": {
   "display_name": "D7041EMiniProject",
   "language": "python",
   "name": "python3"
  },
  "language_info": {
   "codemirror_mode": {
    "name": "ipython",
    "version": 3
   },
   "file_extension": ".py",
   "mimetype": "text/x-python",
   "name": "python",
   "nbconvert_exporter": "python",
   "pygments_lexer": "ipython3",
   "version": "3.11.10"
  }
 },
 "nbformat": 4,
 "nbformat_minor": 2
}
