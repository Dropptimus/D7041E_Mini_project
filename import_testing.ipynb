{
 "cells": [
  {
   "cell_type": "markdown",
   "metadata": {},
   "source": [
    "# Just exploring some potential datasets"
   ]
  },
  {
   "cell_type": "code",
   "execution_count": 111,
   "metadata": {},
   "outputs": [],
   "source": [
    "from ucimlrepo import fetch_ucirepo, list_available_datasets\n",
    "from sklearn.preprocessing import LabelEncoder\n",
    "\n",
    "#list_avaliable_datasets()\n"
   ]
  },
  {
   "cell_type": "code",
   "execution_count": 112,
   "metadata": {},
   "outputs": [],
   "source": [
    "dataset_id = {\"iris\": 53, \n",
    "              \"heart_disease\": 45,\n",
    "              \"wine_quality\": 186,\n",
    "              \"breast_cancer_wisconsin\": 17,\n",
    "              \"car_evaluation\": 19, # Not good maybe remove\n",
    "              \"abalone\": 1,\n",
    "              \"mushroom\": 73, # a lot of categorical data\n",
    "              \"statlog\" : 144 # german credit\n",
    "              }"
   ]
  },
  {
   "cell_type": "code",
   "execution_count": 113,
   "metadata": {},
   "outputs": [],
   "source": [
    "#TODO Convert categorical to numerical with Label encoder\n",
    "def import_dataset(uci_id):\n",
    "    dataset = fetch_ucirepo(id=uci_id) \n",
    "    data_types = dataset.variables[\"type\"]\n",
    "    X = dataset.data.features \n",
    "    y = dataset.data.targets \n",
    "    for i, type in enumerate(data_types):\n",
    "        print(type)\n",
    "    return X, y\n"
   ]
  },
  {
   "cell_type": "code",
   "execution_count": 114,
   "metadata": {},
   "outputs": [
    {
     "name": "stdout",
     "output_type": "stream",
     "text": [
      "Categorical\n",
      "Integer\n",
      "Categorical\n",
      "Categorical\n",
      "Integer\n",
      "Categorical\n",
      "Categorical\n",
      "Integer\n",
      "Categorical\n",
      "Categorical\n",
      "Integer\n",
      "Categorical\n",
      "Integer\n",
      "Categorical\n",
      "Categorical\n",
      "Integer\n",
      "Categorical\n",
      "Integer\n",
      "Binary\n",
      "Binary\n",
      "Binary\n",
      "     class\n",
      "0        1\n",
      "1        2\n",
      "2        1\n",
      "3        1\n",
      "4        2\n",
      "..     ...\n",
      "995      1\n",
      "996      1\n",
      "997      1\n",
      "998      2\n",
      "999      1\n",
      "\n",
      "[1000 rows x 1 columns]\n",
      "    Attribute1  Attribute2 Attribute3 Attribute4  Attribute5 Attribute6  \\\n",
      "0          A11           6        A34        A43        1169        A65   \n",
      "1          A12          48        A32        A43        5951        A61   \n",
      "2          A14          12        A34        A46        2096        A61   \n",
      "3          A11          42        A32        A42        7882        A61   \n",
      "4          A11          24        A33        A40        4870        A61   \n",
      "..         ...         ...        ...        ...         ...        ...   \n",
      "995        A14          12        A32        A42        1736        A61   \n",
      "996        A11          30        A32        A41        3857        A61   \n",
      "997        A14          12        A32        A43         804        A61   \n",
      "998        A11          45        A32        A43        1845        A61   \n",
      "999        A12          45        A34        A41        4576        A62   \n",
      "\n",
      "    Attribute7  Attribute8 Attribute9 Attribute10  Attribute11 Attribute12  \\\n",
      "0          A75           4        A93        A101            4        A121   \n",
      "1          A73           2        A92        A101            2        A121   \n",
      "2          A74           2        A93        A101            3        A121   \n",
      "3          A74           2        A93        A103            4        A122   \n",
      "4          A73           3        A93        A101            4        A124   \n",
      "..         ...         ...        ...         ...          ...         ...   \n",
      "995        A74           3        A92        A101            4        A121   \n",
      "996        A73           4        A91        A101            4        A122   \n",
      "997        A75           4        A93        A101            4        A123   \n",
      "998        A73           4        A93        A101            4        A124   \n",
      "999        A71           3        A93        A101            4        A123   \n",
      "\n",
      "     Attribute13 Attribute14 Attribute15  Attribute16 Attribute17  \\\n",
      "0             67        A143        A152            2        A173   \n",
      "1             22        A143        A152            1        A173   \n",
      "2             49        A143        A152            1        A172   \n",
      "3             45        A143        A153            1        A173   \n",
      "4             53        A143        A153            2        A173   \n",
      "..           ...         ...         ...          ...         ...   \n",
      "995           31        A143        A152            1        A172   \n",
      "996           40        A143        A152            1        A174   \n",
      "997           38        A143        A152            1        A173   \n",
      "998           23        A143        A153            1        A173   \n",
      "999           27        A143        A152            1        A173   \n",
      "\n",
      "     Attribute18 Attribute19 Attribute20  \n",
      "0              1        A192        A201  \n",
      "1              1        A191        A201  \n",
      "2              2        A191        A201  \n",
      "3              2        A191        A201  \n",
      "4              2        A191        A201  \n",
      "..           ...         ...         ...  \n",
      "995            1        A191        A201  \n",
      "996            1        A192        A201  \n",
      "997            1        A191        A201  \n",
      "998            1        A192        A201  \n",
      "999            1        A191        A201  \n",
      "\n",
      "[1000 rows x 20 columns]\n"
     ]
    }
   ],
   "source": [
    "X, y = import_dataset(dataset_id[\"statlog\"])\n",
    "print(y)\n",
    "print(X)"
   ]
  }
 ],
 "metadata": {
  "kernelspec": {
   "display_name": "D7041EMiniProject",
   "language": "python",
   "name": "python3"
  },
  "language_info": {
   "codemirror_mode": {
    "name": "ipython",
    "version": 3
   },
   "file_extension": ".py",
   "mimetype": "text/x-python",
   "name": "python",
   "nbconvert_exporter": "python",
   "pygments_lexer": "ipython3",
   "version": "3.11.10"
  }
 },
 "nbformat": 4,
 "nbformat_minor": 2
}
